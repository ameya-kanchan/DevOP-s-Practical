{
 "cells": [
  {
   "cell_type": "code",
   "execution_count": 1,
   "id": "c9212796-e45f-488e-96f5-8778d8af9734",
   "metadata": {},
   "outputs": [
    {
     "name": "stdout",
     "output_type": "stream",
     "text": [
      "NAME Ameya\n",
      "Age 21\n",
      "Height 175.5\n"
     ]
    }
   ],
   "source": [
    "#Q1\n",
    "name = \"Ameya\";\n",
    "age = 21\n",
    "height = 175.5\n",
    "print(\"NAME\",name)\n",
    "print(\"Age\",age)\n",
    "print(\"Height\", height)"
   ]
  },
  {
   "cell_type": "code",
   "execution_count": 3,
   "id": "46435f8f-e415-4739-a4e1-e67ccf38c230",
   "metadata": {},
   "outputs": [
    {
     "name": "stdout",
     "output_type": "stream",
     "text": [
      "<class 'str'>\n",
      "<class 'int'>\n",
      "<class 'float'>\n",
      "<class 'bool'>\n"
     ]
    }
   ],
   "source": [
    "#Q2\n",
    "my_string = \"Hello, World\";\n",
    "my_integer = 10\n",
    "my_float = 20.5\n",
    "my_boolean = True\n",
    "print(type(my_string))\n",
    "print(type(my_integer))\n",
    "print(type(my_float))\n",
    "print(type(my_boolean))"
   ]
  },
  {
   "cell_type": "code",
   "execution_count": 5,
   "id": "36b206ac-53fc-4fbb-b1eb-12597bf71dfd",
   "metadata": {},
   "outputs": [
    {
     "name": "stdout",
     "output_type": "stream",
     "text": [
      "['Inception', 'The Matrix', 'Interstellar', 'The Dark Knight', 'Pulp Fiction ']\n",
      "Second movie The Matrix\n",
      "Fourth movie: The Dark Knight\n"
     ]
    }
   ],
   "source": [
    "#Q3\n",
    "movies = [\"Inception\", \"The Matrix\", \"Interstellar\", \"The Dark Knight\", \"Pulp Fiction \" ]\n",
    "print(movies)\n",
    "print(\"Second movie\", movies[1])\n",
    "print(\"Fourth movie:\", movies[3])"
   ]
  },
  {
   "cell_type": "code",
   "execution_count": 7,
   "id": "8ff3fcd5-4b13-4dda-affa-36d206fdeef8",
   "metadata": {},
   "outputs": [
    {
     "name": "stdout",
     "output_type": "stream",
     "text": [
      "Updated list of movies: ['The Matrix', 'Interstellar', 'The Dark Knight', 'Pulp Fiction ', 'The Shawshank Redemption']\n"
     ]
    }
   ],
   "source": [
    "#Q4\n",
    "movies.append(\"Fight Club\")\n",
    "movies.pop(0)\n",
    "movies[-1] = \"The Shawshank Redemption\"\n",
    "print(\"Updated list of movies:\", movies)\n"
   ]
  },
  {
   "cell_type": "code",
   "execution_count": 9,
   "id": "6981c65a-c35b-4e03-b3aa-95ab657a9df3",
   "metadata": {},
   "outputs": [
    {
     "name": "stdout",
     "output_type": "stream",
     "text": [
      "{'title': '1984', 'author': 'George Orwell', 'year': 1949}\n",
      "Author: George Orwell\n"
     ]
    }
   ],
   "source": [
    "#Q5\n",
    "book = {\"title\": \"1984\", \"author\": \"George Orwell\", \"year\": 1949}\n",
    "print(book)\n",
    "print(\"Author:\", book[\"author\"])"
   ]
  },
  {
   "cell_type": "code",
   "execution_count": 13,
   "id": "1927252f-3443-4d3d-a831-e9bf58f88862",
   "metadata": {},
   "outputs": [
    {
     "name": "stdout",
     "output_type": "stream",
     "text": [
      "Updated book information: {'author': 'George Orwell', 'year': 1950, 'genre': 'Dystopian'}\n"
     ]
    }
   ],
   "source": [
    "#Q6\n",
    "book[\"genre\"] = \"Dystopian\"\n",
    "book[\"year\"] = 1950\n",
    "del book[\"title\"]\n",
    "print(\"Updated book information:\", book)"
   ]
  },
  {
   "cell_type": "code",
   "execution_count": 23,
   "id": "f1d3a28c-ebba-4a92-babe-f4a989016eb0",
   "metadata": {},
   "outputs": [
    {
     "name": "stdout",
     "output_type": "stream",
     "text": [
      "1\n",
      "2\n",
      "3\n",
      "4\n",
      "5\n"
     ]
    }
   ],
   "source": [
    "#Q7\n",
    "number = 1\n",
    "while number <= 5:\n",
    "    print(number)\n",
    "    number += 1"
   ]
  },
  {
   "cell_type": "code",
   "execution_count": 29,
   "id": "29783b22-7107-4389-8955-88399207b7c0",
   "metadata": {},
   "outputs": [
    {
     "name": "stdout",
     "output_type": "stream",
     "text": [
      "Sum: 12\n"
     ]
    }
   ],
   "source": [
    "#Q8\n",
    "def add_numbers(num1, num2):\n",
    "    return num1 + num2\n",
    "result = add_numbers(5, 7)\n",
    "print(\"Sum:\", result)"
   ]
  },
  {
   "cell_type": "code",
   "execution_count": 33,
   "id": "bd62f5e4-8f3b-4348-973f-27a26af6c726",
   "metadata": {},
   "outputs": [
    {
     "name": "stdout",
     "output_type": "stream",
     "text": [
      "30.0\n"
     ]
    }
   ],
   "source": [
    "#Q9\n",
    "def calculate_average(numbers):\n",
    "    return sum(numbers) / len(numbers)\n",
    "numbers_list = [10, 20, 30, 40, 50]\n",
    "print(calculate_average(numbers_list))"
   ]
  },
  {
   "cell_type": "code",
   "execution_count": 37,
   "id": "1e6471a2-a3dc-4aea-ab5f-07be7f118dea",
   "metadata": {},
   "outputs": [
    {
     "name": "stdout",
     "output_type": "stream",
     "text": [
      "Alice - Average Grade: 87.66666666666667\n",
      "Bob - Average Grade: 80.0\n",
      "Charlie - Average Grade: 93.33333333333333\n"
     ]
    }
   ],
   "source": [
    "#Q10\n",
    "students = [\n",
    "{\"name\": \"Alice\", \"age\": 20, \"grades\": [85, 90, 88]},\n",
    "{\"name\": \"Bob\", \"age\": 22, \"grades\": [78, 82, 80]},\n",
    "{\"name\": \"Charlie\", \"age\": 21, \"grades\": [92, 95, 93]},\n",
    "]\n",
    "def calculate_student_averages(students):\n",
    "    for student in students:\n",
    "        average_grade = sum(student[\"grades\"]) / len(student[\"grades\"])\n",
    "        print(f\"{student[\"name\"]} - Average Grade: {average_grade}\")\n",
    "calculate_student_averages(students)"
   ]
  },
  {
   "cell_type": "code",
   "execution_count": null,
   "id": "ae6842ba-8963-48ec-a9da-9eed8084d241",
   "metadata": {},
   "outputs": [],
   "source": []
  }
 ],
 "metadata": {
  "kernelspec": {
   "display_name": "Python 3 (ipykernel)",
   "language": "python",
   "name": "python3"
  },
  "language_info": {
   "codemirror_mode": {
    "name": "ipython",
    "version": 3
   },
   "file_extension": ".py",
   "mimetype": "text/x-python",
   "name": "python",
   "nbconvert_exporter": "python",
   "pygments_lexer": "ipython3",
   "version": "3.12.4"
  }
 },
 "nbformat": 4,
 "nbformat_minor": 5
}
